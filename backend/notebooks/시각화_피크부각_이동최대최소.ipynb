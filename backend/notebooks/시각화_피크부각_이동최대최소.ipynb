{
 "cells": [
  {
   "cell_type": "code",
   "execution_count": null,
   "metadata": {},
   "outputs": [],
   "source": [
    "import pandas as pd\n",
    "import matplotlib.pyplot as plt\n",
    "import os\n",
    "\n",
    "window_size = 10_000\n",
    "\n",
    "# INPUT\n",
    "path = '../csv/battery_1st/ng02_ng01.csv'\n",
    "\n",
    "data = pd.read_csv(path, names=[\"value\"])\n",
    "\n",
    "data[\"moving_max\"] = data[\"value\"].rolling(window=window_size, center=True).max()\n",
    "data[\"moving_max\"] = data[\"moving_max\"].ffill().bfill()\n",
    "data[\"moving_min\"] = data[\"value\"].rolling(window=window_size, center=True).min()\n",
    "data[\"moving_min\"] = data[\"moving_min\"].ffill().bfill()\n",
    "\n",
    "moving_max_min = data[\"moving_max\"]-data[\"moving_min\"]\n",
    "mmm_std = moving_max_min.std()  ##\n",
    "\n",
    "# OUTPUT\n",
    "plt.figure(figsize=(13, 5))\n",
    "plt.plot(moving_max_min, linewidth=0.5, alpha=1, label=\"Moving Max-Min\")\n",
    "title = path.split('/')[-1]\n",
    "plt.title(title)\n",
    "plt.xlabel(\"Time Series\")\n",
    "plt.ylabel(\"Value\")\n",
    "plt.legend(loc='upper right', framealpha=0.7)\n",
    "plt.grid(linestyle='--')\n",
    "plt.show()\n",
    "plt.close()"
   ]
  },
  {
   "cell_type": "code",
   "execution_count": null,
   "metadata": {},
   "outputs": [],
   "source": [
    "# 살짝 주의 사항\n",
    "\n",
    "path = '../csv/battery_1st/ng02_ng01.csv'  # 1차\n",
    "path = '../csv/battery_2nd/Cell01_NG01.csv'  # 2차\n",
    "path = '../csv/battery_3rd/A1-1.csv'  # 3차\n",
    "path = '../csv/battery_4th/1line_1.csv'  # 4차 데이터 예시\n",
    "\n",
    "data = pd.read_csv(path, names=[\"value\"])  # 1차와\n",
    "data = pd.read_csv(path, names=[\"value\"])  # 2차는 동일.\n",
    "data = pd.read_csv(path, skiprows=5, usecols=[0], names=[\"value\"])  # 3차와\n",
    "data = pd.read_csv(path, skiprows=2200000+5, usecols=[0], names=[\"value\"])  # 4차 데이터는 read_csv 파라미터가 조금씩 다릅니다!"
   ]
  },
  {
   "cell_type": "markdown",
   "metadata": {},
   "source": [
    "# 원본 - 1차 데이터"
   ]
  },
  {
   "cell_type": "code",
   "execution_count": null,
   "metadata": {},
   "outputs": [],
   "source": [
    "dir_path = '../csv/battery_1st'\n",
    "\n",
    "window_size = 10_000\n",
    "\n",
    "for file in sorted(os.listdir(dir_path)):\n",
    "    data = pd.read_csv(os.path.join(dir_path, file), header=None, names=[\"value\"])\n",
    "\n",
    "    data[\"moving_max\"] = data[\"value\"].rolling(window=window_size, center=True).max()\n",
    "    data[\"moving_max\"] = data[\"moving_max\"].ffill().bfill()\n",
    "    data[\"moving_min\"] = data[\"value\"].rolling(window=window_size, center=True).min()\n",
    "    data[\"moving_min\"] = data[\"moving_min\"].ffill().bfill()\n",
    "    \n",
    "    moving_max_min = data[\"moving_max\"]-data[\"moving_min\"]\n",
    "    mmm_std = moving_max_min.std()  ##\n",
    "    \n",
    "    plt.figure(figsize=(20, 5))\n",
    "    plt.subplot(1,2,1)\n",
    "    plt.plot(data[\"value\"], color=\"gray\", linewidth=0.5, alpha=0.5, label=\"Original Data\")\n",
    "    plt.plot(data[\"moving_max\"], color=\"C0\", linewidth=0.5, alpha=1, label=\"moving_max\")\n",
    "    plt.plot(data[\"moving_min\"], color=\"C1\", linewidth=0.5, alpha=1, label=\"moving_min\")\n",
    "    plt.title(file)\n",
    "    plt.xlabel(\"Time Series\")\n",
    "    plt.ylabel(\"Value\")\n",
    "    plt.legend(loc='upper right', framealpha=0.7)\n",
    "    plt.grid(linestyle='--')\n",
    "    plt.subplot(1,2,2)\n",
    "    color = 'green' if 'ok' in file.split('_')[0] else 'red'\n",
    "    plt.plot(moving_max_min, color=color, linewidth=0.5, alpha=1, label=\"Moving Max-Min\")\n",
    "    plt.title(f'{file}')\n",
    "    plt.xlabel(\"Time Series\")\n",
    "    plt.ylabel(\"Value\")\n",
    "    plt.legend(loc='upper right', framealpha=0.7)\n",
    "    plt.grid(linestyle='--')\n",
    "    plt.tight_layout()\n",
    "    plt.show()\n",
    "    plt.close()"
   ]
  }
 ],
 "metadata": {
  "kernelspec": {
   "display_name": ".venv",
   "language": "python",
   "name": "python3"
  },
  "language_info": {
   "codemirror_mode": {
    "name": "ipython",
    "version": 3
   },
   "file_extension": ".py",
   "mimetype": "text/x-python",
   "name": "python",
   "nbconvert_exporter": "python",
   "pygments_lexer": "ipython3",
   "version": "3.11.8"
  }
 },
 "nbformat": 4,
 "nbformat_minor": 2
}
