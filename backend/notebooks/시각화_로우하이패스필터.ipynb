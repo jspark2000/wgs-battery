{
 "cells": [
  {
   "cell_type": "code",
   "execution_count": null,
   "metadata": {},
   "outputs": [],
   "source": [
    "import os\n",
    "import pandas as pd\n",
    "import matplotlib.pyplot as plt\n",
    "from scipy.signal import butter, filtfilt\n",
    "\n",
    "fs = 1e6  # 샘플링 레이트 1 MHz\n",
    "fc = 10000  # 컷오프 주파수 10 kHz\n",
    "\n",
    "# 필터 계수 생성\n",
    "b_high, a_high = butter(N=5, Wn=fc/(fs/2), btype='high')\n",
    "b_low, a_low = butter(N=5, Wn=fc/(fs/2), btype='low')\n",
    "\n",
    "# INPUT\n",
    "path = '../data/battery_1st/ng02_ng01.csv'\n",
    "\n",
    "data = pd.read_csv(path, names=[\"value\"])\n",
    "\n",
    "# 필터 적용\n",
    "high_filtered_data = filtfilt(b_high, a_high, data['value'])\n",
    "low_high_filtered_data = filtfilt(b_low, a_low, high_filtered_data)\n",
    "\n",
    "# OUTPUT\n",
    "plt.figure(figsize=(13, 5))\n",
    "plt.plot(low_high_filtered_data, linewidth=0.5, alpha=1, label=\"Low-High filtered\")\n",
    "title = path.split('/')[-1]\n",
    "plt.title(title)\n",
    "plt.xlabel(\"Time Series\")\n",
    "plt.ylabel(\"Value\")\n",
    "plt.legend(loc='upper right', framealpha=0.7)\n",
    "plt.grid(linestyle='--')\n",
    "plt.show()\n",
    "plt.close()"
   ]
  }
 ],
 "metadata": {
  "kernelspec": {
   "display_name": ".venv",
   "language": "python",
   "name": "python3"
  },
  "language_info": {
   "codemirror_mode": {
    "name": "ipython",
    "version": 3
   },
   "file_extension": ".py",
   "mimetype": "text/x-python",
   "name": "python",
   "nbconvert_exporter": "python",
   "pygments_lexer": "ipython3",
   "version": "3.11.8"
  }
 },
 "nbformat": 4,
 "nbformat_minor": 2
}
