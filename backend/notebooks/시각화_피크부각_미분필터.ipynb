{
 "cells": [
  {
   "cell_type": "code",
   "execution_count": null,
   "metadata": {},
   "outputs": [],
   "source": [
    "import os\n",
    "import pandas as pd\n",
    "import numpy as np\n",
    "import matplotlib.pyplot as plt\n",
    "\n",
    "# Define the filter\n",
    "filter = np.concatenate((np.full(50, -1), np.full(50, 1)))\n",
    "\n",
    "# INPUT\n",
    "path = '../data/battery_1st/ng02_ng01.csv'\n",
    "\n",
    "data = pd.read_csv(path, names=[\"value\"])\n",
    "\n",
    "# Apply the filter\n",
    "filtered_data = np.convolve(data[\"value\"], filter, mode='valid')\n",
    "filtered_data = abs(filtered_data)\n",
    "\n",
    "# OUTPUT\n",
    "plt.figure(figsize=(13, 5))\n",
    "plt.plot(filtered_data, linewidth=0.5, alpha=1, label=\"Differential filtered\")\n",
    "title = path.split('/')[-1]\n",
    "plt.title(title)\n",
    "plt.xlabel(\"Time Series\")\n",
    "plt.ylabel(\"Value\")\n",
    "plt.legend(loc='upper right', framealpha=0.7)\n",
    "plt.grid(linestyle='--')\n",
    "plt.show()\n",
    "plt.close()"
   ]
  },
  {
   "cell_type": "code",
   "execution_count": null,
   "metadata": {},
   "outputs": [],
   "source": [
    "# 살짝 주의 사항\n",
    "\n",
    "path = '../data/battery_1st/ng02_ng01.csv'  # 1차\n",
    "path = '../data/battery_2nd/Cell01_NG01.csv'  # 2차\n",
    "path = '../data/battery_3rd/A1-1.csv'  # 3차\n",
    "path = '../data/battery_4th/1line_1.csv'  # 4차 데이터 예시\n",
    "\n",
    "data = pd.read_csv(path, names=[\"value\"])  # 1차와\n",
    "data = pd.read_csv(path, names=[\"value\"])  # 2차는 동일.\n",
    "data = pd.read_csv(path, skiprows=5, usecols=[0], names=[\"value\"])  # 3차와\n",
    "data = pd.read_csv(path, skiprows=2200000+5, usecols=[0], names=[\"value\"])  # 4차 데이터는 read_csv 파라미터가 조금씩 다릅니다!"
   ]
  }
 ],
 "metadata": {
  "kernelspec": {
   "display_name": ".venv",
   "language": "python",
   "name": "python3"
  },
  "language_info": {
   "codemirror_mode": {
    "name": "ipython",
    "version": 3
   },
   "file_extension": ".py",
   "mimetype": "text/x-python",
   "name": "python",
   "nbconvert_exporter": "python",
   "pygments_lexer": "ipython3",
   "version": "3.11.8"
  }
 },
 "nbformat": 4,
 "nbformat_minor": 2
}
