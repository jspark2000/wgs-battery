{
 "cells": [
  {
   "cell_type": "code",
   "execution_count": null,
   "metadata": {},
   "outputs": [],
   "source": [
    "import os\n",
    "import pandas as pd\n",
    "import numpy as np\n",
    "from scipy.signal import find_peaks, peak_widths\n",
    "import matplotlib.pyplot as plt\n",
    "\n",
    "def calculate_metrics(data, sigma_multiplier=4):\n",
    "    mean = data.values.mean()\n",
    "    sigma = np.std(data.values)\n",
    "\n",
    "    # STD\n",
    "    std_deviation = sigma\n",
    "\n",
    "    # Anomaly Count\n",
    "    upper_limit = mean + sigma_multiplier * sigma\n",
    "    lower_limit = mean - sigma_multiplier * sigma\n",
    "    anomaly_count = ((data.values < lower_limit) | (data.values > upper_limit)).sum()\n",
    "\n",
    "    # Widest Peak Width\n",
    "    flattened_data = data.values.flatten()\n",
    "    peaks, _ = find_peaks(flattened_data)\n",
    "    widths = peak_widths(flattened_data, peaks, rel_height=0.5)[0]\n",
    "    widest_peak_width = max(widths) if widths.size > 0 else 0\n",
    "\n",
    "    return std_deviation, anomaly_count, widest_peak_width\n",
    "\n",
    "def anomaly_scoring(data, alpha=1.0, beta=0.5, gamma=1.0):\n",
    "    x1, x2, x3 = calculate_metrics(data)\n",
    "    \n",
    "    # 가중합 계산\n",
    "    weighted_score = (alpha * x1) + (beta * x2) + (gamma * x3)\n",
    "    \n",
    "    return weighted_score"
   ]
  },
  {
   "cell_type": "code",
   "execution_count": null,
   "metadata": {},
   "outputs": [],
   "source": [
    "# INPUT\n",
    "path = '../csv/battery_1st/ng02_ng01.csv'\n",
    "\n",
    "data = pd.read_csv(path, names=[\"value\"])\n",
    "score = anomaly_scoring(data)\n",
    "\n",
    "# OUTPUT\n",
    "print(f\"Anomaly Score: {score}\")"
   ]
  },
  {
   "cell_type": "markdown",
   "metadata": {},
   "source": [
    "# 참고용 - 1차 데이터"
   ]
  },
  {
   "cell_type": "code",
   "execution_count": null,
   "metadata": {},
   "outputs": [],
   "source": [
    "dir_path = '../csv/battery_1st'\n",
    "\n",
    "for file in sorted(os.listdir(dir_path)):\n",
    "    data = pd.read_csv(os.path.join(dir_path,file), names=[\"value\"])\n",
    "    score = anomaly_scoring(data)\n",
    "\n",
    "    print(f\"Anomaly Score of {file}: {score}\")"
   ]
  },
  {
   "cell_type": "code",
   "execution_count": null,
   "metadata": {},
   "outputs": [],
   "source": [
    "dir_path = '../csv/battery_1st'\n",
    "\n",
    "for file in sorted(os.listdir(dir_path)):\n",
    "    data = pd.read_csv(os.path.join(dir_path,file), names=[\"value\"])\n",
    "    std_deviation, anomaly_count, widest_peak_width = calculate_metrics(data)\n",
    "\n",
    "    print(f\"Metrics of {file}: STD {std_deviation}/ AC {anomaly_count}/ WPW {widest_peak_width}\")"
   ]
  }
 ],
 "metadata": {
  "kernelspec": {
   "display_name": ".venv",
   "language": "python",
   "name": "python3"
  },
  "language_info": {
   "codemirror_mode": {
    "name": "ipython",
    "version": 3
   },
   "file_extension": ".py",
   "mimetype": "text/x-python",
   "name": "python",
   "nbconvert_exporter": "python",
   "pygments_lexer": "ipython3",
   "version": "3.11.8"
  }
 },
 "nbformat": 4,
 "nbformat_minor": 2
}
