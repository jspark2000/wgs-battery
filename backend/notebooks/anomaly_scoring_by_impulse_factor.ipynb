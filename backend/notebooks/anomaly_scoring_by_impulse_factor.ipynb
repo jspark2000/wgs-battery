{
 "cells": [
  {
   "cell_type": "code",
   "execution_count": null,
   "metadata": {},
   "outputs": [],
   "source": [
    "import os\n",
    "import pandas as pd\n",
    "import numpy as np\n",
    "import matplotlib.pyplot as plt\n",
    "\n",
    "# INPUT\n",
    "path = '../data/battery_1st/ng02_ng01.csv'\n",
    "\n",
    "data = pd.read_csv(path, names=[\"value\"])\n",
    "\n",
    "avg = data['value'].mean()\n",
    "peak = data['value'].max()\n",
    "IF = peak / avg\n",
    "\n",
    "# OUTPUT -> IF\n",
    "filename = path.split('/')[-1]\n",
    "print(f'Impulse Factor of {filename}: {IF}')"
   ]
  },
  {
   "cell_type": "markdown",
   "metadata": {},
   "source": [
    "# 참고용 - 1차 데이터 전체"
   ]
  },
  {
   "cell_type": "code",
   "execution_count": null,
   "metadata": {},
   "outputs": [],
   "source": [
    "dir_path = '../data/battery_1st'\n",
    "for file in sorted(os.listdir(dir_path)):\n",
    "    data = pd.read_csv(os.path.join(dir_path, file), header=None, names=[\"value\"])\n",
    "\n",
    "    avg = data['value'].mean()\n",
    "    peak = data['value'].max()\n",
    "    IF = peak / avg\n",
    "    \n",
    "    print(f'Impulse Factor of {file}: {IF}')"
   ]
  }
 ],
 "metadata": {
  "kernelspec": {
   "display_name": ".venv",
   "language": "python",
   "name": "python3"
  },
  "language_info": {
   "codemirror_mode": {
    "name": "ipython",
    "version": 3
   },
   "file_extension": ".py",
   "mimetype": "text/x-python",
   "name": "python",
   "nbconvert_exporter": "python",
   "pygments_lexer": "ipython3",
   "version": "3.11.8"
  }
 },
 "nbformat": 4,
 "nbformat_minor": 2
}
