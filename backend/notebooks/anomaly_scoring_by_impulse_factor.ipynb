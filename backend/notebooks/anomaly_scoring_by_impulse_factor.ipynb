{
 "cells": [
  {
   "cell_type": "code",
   "execution_count": null,
   "metadata": {},
   "outputs": [],
   "source": [
    "import os\n",
    "import pandas as pd\n",
    "import numpy as np\n",
    "import matplotlib.pyplot as plt\n",
    "\n",
    "# INPUT\n",
    "path = '../csv/battery_1st/ng02_ng01.csv'\n",
    "\n",
    "data = pd.read_csv(path, names=[\"value\"])\n",
    "\n",
    "avg = data['value'].mean()\n",
    "peak = data['value'].max()\n",
    "IF = peak / avg\n",
    "\n",
    "# OUTPUT -> IF\n",
    "filename = path.split('/')[-1]\n",
    "print(f'Impulse Factor of {filename}: {IF}')"
   ]
  },
  {
   "cell_type": "code",
   "execution_count": null,
   "metadata": {},
   "outputs": [],
   "source": [
    "def get_dataframe_info(df):\n",
    "    total_rows = len(df)\n",
    "    total_cols = len(df.columns)\n",
    "    \n",
    "    column_info = []\n",
    "\n",
    "    for col in df.columns:\n",
    "        info = {\n",
    "            'column_name': col,\n",
    "            'dtype': str(df[col].dtype),\n",
    "            'non_null_count': df[col].count(),\n",
    "            'null_count': df[col].isnull().sum(),\n",
    "            'null_percentage': round(df[col].isnull().mean() * 100, 2),\n",
    "        }\n",
    "        column_info.append(info)\n",
    "    \n",
    "    return {\n",
    "        \"column_info\": column_info,\n",
    "        \"dataframe_info\": {\n",
    "            \"total_rows\": total_rows,\n",
    "            \"total_cols\": total_cols\n",
    "        }\n",
    "    }"
   ]
  },
  {
   "cell_type": "code",
   "execution_count": null,
   "metadata": {},
   "outputs": [],
   "source": [
    "get_dataframe_info(data)"
   ]
  },
  {
   "cell_type": "markdown",
   "metadata": {},
   "source": [
    "# 참고용 - 1차 데이터 전체"
   ]
  },
  {
   "cell_type": "code",
   "execution_count": null,
   "metadata": {},
   "outputs": [],
   "source": [
    "dir_path = '../csv/battery_1st'\n",
    "for file in sorted(os.listdir(dir_path)):\n",
    "    data = pd.read_csv(os.path.join(dir_path, file), header=None, names=[\"value\"])\n",
    "\n",
    "    avg = data['value'].mean()\n",
    "    peak = data['value'].max()\n",
    "    IF = peak / avg\n",
    "    \n",
    "    print(f'Impulse Factor of {file}: {IF}')"
   ]
  }
 ],
 "metadata": {
  "kernelspec": {
   "display_name": ".venv",
   "language": "python",
   "name": "python3"
  },
  "language_info": {
   "codemirror_mode": {
    "name": "ipython",
    "version": 3
   },
   "file_extension": ".py",
   "mimetype": "text/x-python",
   "name": "python",
   "nbconvert_exporter": "python",
   "pygments_lexer": "ipython3",
   "version": "3.11.8"
  }
 },
 "nbformat": 4,
 "nbformat_minor": 2
}
